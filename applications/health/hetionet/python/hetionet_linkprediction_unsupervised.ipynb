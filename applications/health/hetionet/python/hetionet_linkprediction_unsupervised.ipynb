{
 "cells": [
  {
   "cell_type": "markdown",
   "id": "sudden-parts",
   "metadata": {},
   "source": [
    "Copyright © 2021, SAS Institute Inc., Cary, NC, USA.  All Rights Reserved.\n",
    "SPDX-License-Identifier: Apache-2.0"
   ]
  },
  {
   "cell_type": "markdown",
   "id": "28961f16",
   "metadata": {},
   "source": [
    "# Unsupervised identification of disease similarity and drug compound similarity \n",
    "\n",
    "This demo is based on the dataset available from https://github.com/hetio/hetionet.\n",
    "\n",
    "Hetionet is a knowledge graph that encodes known information in biology and medicine.\n",
    "   \n",
    "The data model consists of various node and link types.\n",
    "   \n",
    "The goal of this demo is to predict disease resemblance and compound resemblance using an unsupervised approach.\n",
    "   \n",
    "All the \"resembles\" links between Disease node pairs and Compound node pairs in the data set are considered unknown for the sake of this demo. The task is to predict these links based on the other information in the network.\n",
    "\n",
    "This task is considered unsupervised, because none of the links to be predicted are made available to the model during training.\n",
    "\n",
    "The sparsity of the prediction task makes it a difficult machine learning challenge, but the approach given in this notebook uses network projection to achieve highly accurate results.\n",
    "\n",
    "This type of unsupervised analysis could be useful in a drug repurposing study: one could identify plausible candidates for a clinical trial based on the following:\n",
    "- which compounds are most similar to a compound X that is known to be an effective treatment of disease Y?\n",
    "- which compounds are known to be effective in treating the diseases that are most similar to disease Y?"
   ]
  },
  {
   "cell_type": "markdown",
   "id": "fifty-reporter",
   "metadata": {},
   "source": [
    "# Imports"
   ]
  },
  {
   "cell_type": "code",
   "execution_count": 1,
   "id": "smooth-diagram",
   "metadata": {},
   "outputs": [],
   "source": [
    "import swat\n",
    "import os\n",
    "import sys\n",
    "sys.path.append(os.path.join(os.path.dirname(os.getcwd()),r\"../../../common/python\"))\n",
    "import visualization as viz\n",
    "import cas_connection as cas"
   ]
  },
  {
   "cell_type": "markdown",
   "id": "annual-manufacturer",
   "metadata": {},
   "source": [
    "# CAS Connection"
   ]
  },
  {
   "cell_type": "code",
   "execution_count": 2,
   "id": "contemporary-contents",
   "metadata": {
    "scrolled": true
   },
   "outputs": [
    {
     "name": "stdout",
     "output_type": "stream",
     "text": [
      "NOTE: 'myData' is now the active caslib.\n",
      "NOTE: Cloud Analytic Services added the caslib 'myData'.\n",
      "NOTE: Added action set 'network'.\n",
      "NOTE: Added action set 'fedsql'.\n"
     ]
    },
    {
     "data": {
      "text/html": [
       "<div class=\"cas-results-key\"><b>&#167; actionset</b></div>\n",
       "<div class=\"cas-results-body\">\n",
       "<div>fedsql</div>\n",
       "</div>\n",
       "<div class=\"cas-output-area\"></div>\n",
       "<p class=\"cas-results-performance\"><small><span class=\"cas-elapsed\">elapsed 0.00146s</span> &#183; <span class=\"cas-user\">user 0.00129s</span> &#183; <span class=\"cas-sys\">sys 0.00014s</span> &#183; <span class=\"cas-memory\">mem 0.239MB</span></small></p>"
      ],
      "text/plain": [
       "[actionset]\n",
       "\n",
       " 'fedsql'\n",
       "\n",
       "+ Elapsed: 0.00146s, user: 0.00129s, sys: 0.00014s, mem: 0.239mb"
      ]
     },
     "execution_count": 2,
     "metadata": {},
     "output_type": "execute_result"
    }
   ],
   "source": [
    "caslib = 'myData'\n",
    "subdir = 'data/hetionet/'\n",
    "s      =  cas.reconnect(caslib=caslib, datasubdir=subdir)\n",
    "s.loadActionSet('network')\n",
    "s.loadActionSet('fedsql')"
   ]
  },
  {
   "cell_type": "markdown",
   "id": "4290c588",
   "metadata": {},
   "source": [
    "## Options\n",
    "For disease link prediction, select \"Disease\". For drug compound link prediction, select \"Compound\""
   ]
  },
  {
   "cell_type": "code",
   "execution_count": 3,
   "id": "6172dac7",
   "metadata": {},
   "outputs": [],
   "source": [
    "keep_type = \"Disease\""
   ]
  },
  {
   "cell_type": "markdown",
   "id": "fleet-peripheral",
   "metadata": {},
   "source": [
    "# Read in the Knowledge Graph"
   ]
  },
  {
   "cell_type": "code",
   "execution_count": 4,
   "id": "rubber-squad",
   "metadata": {},
   "outputs": [
    {
     "name": "stdout",
     "output_type": "stream",
     "text": [
      "NOTE: Cloud Analytic Services made the file hetionet-v1.0-nodes.tsv available as table NODES in caslib myData.\n"
     ]
    },
    {
     "data": {
      "text/html": [
       "<div class=\"cas-results-key\"><b>&#167; caslib</b></div>\n",
       "<div class=\"cas-results-body\">\n",
       "<div>myData</div>\n",
       "</div>\n",
       "<div class=\"cas-results-key\"><hr/><b>&#167; tableName</b></div>\n",
       "<div class=\"cas-results-body\">\n",
       "<div>NODES</div>\n",
       "</div>\n",
       "<div class=\"cas-results-key\"><hr/><b>&#167; casTable</b></div>\n",
       "<div class=\"cas-results-body\">\n",
       "<div>CASTable('NODES', caslib='myData')</div>\n",
       "</div>\n",
       "<div class=\"cas-output-area\"></div>\n",
       "<p class=\"cas-results-performance\"><small><span class=\"cas-elapsed\">elapsed 0.0268s</span> &#183; <span class=\"cas-user\">user 0.0532s</span> &#183; <span class=\"cas-sys\">sys 0.0134s</span> &#183; <span class=\"cas-memory\">mem 42.2MB</span></small></p>"
      ],
      "text/plain": [
       "[caslib]\n",
       "\n",
       " 'myData'\n",
       "\n",
       "[tableName]\n",
       "\n",
       " 'NODES'\n",
       "\n",
       "[casTable]\n",
       "\n",
       " CASTable('NODES', caslib='myData')\n",
       "\n",
       "+ Elapsed: 0.0268s, user: 0.0532s, sys: 0.0134s, mem: 42.2mb"
      ]
     },
     "execution_count": 4,
     "metadata": {},
     "output_type": "execute_result"
    }
   ],
   "source": [
    "s.table.loadTable(\n",
    "    caslib        = caslib,\n",
    "    path          = \"hetionet-v1.0-nodes.tsv\",\n",
    "    casout        = {\"name\":\"nodes\", \"replace\":True},\n",
    "    importOptions = { \"fileType\":\"CSV\", \"delimiter\":\"\\t\",\n",
    "        \"vars\":[\n",
    "            {\"name\":\"node\", \"type\":\"CHAR\", \"length\":48},\n",
    "            {\"name\":\"name\", \"type\":\"CHAR\", \"length\":64},\n",
    "            {\"name\":\"type\", \"type\":\"CHAR\", \"length\":24}\n",
    "        ]\n",
    "    }\n",
    ")"
   ]
  },
  {
   "cell_type": "code",
   "execution_count": 5,
   "id": "1b12d053",
   "metadata": {},
   "outputs": [
    {
     "name": "stdout",
     "output_type": "stream",
     "text": [
      "NOTE: Cloud Analytic Services made the file hetionet-v1.0-edges.sif available as table LINKS in caslib myData.\n"
     ]
    },
    {
     "data": {
      "text/html": [
       "<div class=\"cas-results-key\"><b>&#167; caslib</b></div>\n",
       "<div class=\"cas-results-body\">\n",
       "<div>myData</div>\n",
       "</div>\n",
       "<div class=\"cas-results-key\"><hr/><b>&#167; tableName</b></div>\n",
       "<div class=\"cas-results-body\">\n",
       "<div>LINKS</div>\n",
       "</div>\n",
       "<div class=\"cas-results-key\"><hr/><b>&#167; casTable</b></div>\n",
       "<div class=\"cas-results-body\">\n",
       "<div>CASTable('LINKS', caslib='myData')</div>\n",
       "</div>\n",
       "<div class=\"cas-output-area\"></div>\n",
       "<p class=\"cas-results-performance\"><small><span class=\"cas-elapsed\">elapsed 0.657s</span> &#183; <span class=\"cas-user\">user 1.97s</span> &#183; <span class=\"cas-sys\">sys 0.324s</span> &#183; <span class=\"cas-memory\">mem 155MB</span></small></p>"
      ],
      "text/plain": [
       "[caslib]\n",
       "\n",
       " 'myData'\n",
       "\n",
       "[tableName]\n",
       "\n",
       " 'LINKS'\n",
       "\n",
       "[casTable]\n",
       "\n",
       " CASTable('LINKS', caslib='myData')\n",
       "\n",
       "+ Elapsed: 0.657s, user: 1.97s, sys: 0.324s, mem: 155mb"
      ]
     },
     "execution_count": 5,
     "metadata": {},
     "output_type": "execute_result"
    }
   ],
   "source": [
    "s.table.loadTable(\n",
    "    caslib        = caslib,\n",
    "    path          = \"hetionet-v1.0-edges.sif\",\n",
    "    casout        = {\"name\":\"links\", \"replace\":True},\n",
    "    importOptions = { \"fileType\":\"CSV\", \"delimiter\":\"\\t\",\n",
    "        \"vars\":[\n",
    "            {\"name\":\"from\", \"type\":\"CHAR\", \"length\":48},\n",
    "            {\"name\":\"type\", \"type\":\"CHAR\", \"length\":24},\n",
    "            {\"name\":\"to\", \"type\":\"CHAR\", \"length\":48}\n",
    "        ]\n",
    "    }\n",
    ")"
   ]
  },
  {
   "cell_type": "markdown",
   "id": "listed-african",
   "metadata": {},
   "source": [
    "## Inspect Data Model"
   ]
  },
  {
   "cell_type": "code",
   "execution_count": 6,
   "id": "freelance-humor",
   "metadata": {},
   "outputs": [
    {
     "data": {
      "text/plain": [
       "Gene                   20945\n",
       "Biological Process     11381\n",
       "Side Effect             5734\n",
       "Molecular Function      2884\n",
       "Pathway                 1822\n",
       "Compound                1552\n",
       "Cellular Component      1391\n",
       "Symptom                  438\n",
       "Anatomy                  402\n",
       "Pharmacologic Class      345\n",
       "Disease                  137\n",
       "dtype: int64"
      ]
     },
     "execution_count": 6,
     "metadata": {},
     "output_type": "execute_result"
    }
   ],
   "source": [
    "node_type_counts = s.CASTable(\"nodes\")[\"type\"].value_counts()\n",
    "node_type_counts"
   ]
  },
  {
   "cell_type": "code",
   "execution_count": 7,
   "id": "27610cbd",
   "metadata": {},
   "outputs": [],
   "source": [
    "n_diseases  = node_type_counts[\"Disease\"]\n",
    "n_compounds = node_type_counts[\"Compound\"]"
   ]
  },
  {
   "cell_type": "code",
   "execution_count": 8,
   "id": "23d03d6f",
   "metadata": {},
   "outputs": [
    {
     "data": {
      "text/plain": [
       "GpBP    559504\n",
       "AeG     526407\n",
       "Gr>G    265672\n",
       "GiG     147164\n",
       "CcSE    138944\n",
       "AdG     102240\n",
       "AuG      97848\n",
       "GpMF     97222\n",
       "GpPW     84372\n",
       "GpCC     73566\n",
       "GcG      61690\n",
       "CdG      21102\n",
       "CuG      18756\n",
       "DaG      12623\n",
       "CbG      11571\n",
       "DuG       7731\n",
       "DdG       7623\n",
       "CrC       6486\n",
       "DlA       3602\n",
       "DpS       3357\n",
       "PCiC      1029\n",
       "CtD        755\n",
       "DrD        543\n",
       "CpD        390\n",
       "dtype: int64"
      ]
     },
     "execution_count": 8,
     "metadata": {},
     "output_type": "execute_result"
    }
   ],
   "source": [
    "link_type_counts = s.CASTable(\"links\")[\"type\"].value_counts()\n",
    "link_type_counts"
   ]
  },
  {
   "cell_type": "code",
   "execution_count": 9,
   "id": "e621b47b",
   "metadata": {},
   "outputs": [],
   "source": [
    "n_drd  = link_type_counts[\"DrD\"]\n",
    "n_crc = link_type_counts[\"CrC\"]"
   ]
  },
  {
   "cell_type": "markdown",
   "id": "figured-rally",
   "metadata": {},
   "source": [
    "## Hide Ground Truth Links"
   ]
  },
  {
   "cell_type": "code",
   "execution_count": 10,
   "id": "conceptual-crowd",
   "metadata": {},
   "outputs": [
    {
     "data": {
      "text/html": [
       "<div class=\"cas-results-key\"><b>&#167; InputCasTables</b></div>\n",
       "<div class=\"cas-results-body\">\n",
       "<div>\n",
       "<style scoped>\n",
       "    .dataframe tbody tr th:only-of-type {\n",
       "        vertical-align: middle;\n",
       "    }\n",
       "\n",
       "    .dataframe tbody tr th {\n",
       "        vertical-align: top;\n",
       "    }\n",
       "\n",
       "    .dataframe thead th {\n",
       "        text-align: right;\n",
       "    }\n",
       "</style>\n",
       "<table border=\"1\" class=\"dataframe\">\n",
       "  <thead>\n",
       "    <tr style=\"text-align: right;\">\n",
       "      <th title=\"\"></th>\n",
       "      <th title=\"CAS Library\">casLib</th>\n",
       "      <th title=\"Name\">Name</th>\n",
       "      <th title=\"Number of Rows\">Rows</th>\n",
       "      <th title=\"Number of Columns\">Columns</th>\n",
       "      <th title=\"Table\">casTable</th>\n",
       "    </tr>\n",
       "  </thead>\n",
       "  <tbody>\n",
       "    <tr>\n",
       "      <th>0</th>\n",
       "      <td>myData</td>\n",
       "      <td>links</td>\n",
       "      <td>2250197</td>\n",
       "      <td>3</td>\n",
       "      <td>CASTable('links', caslib='myData')</td>\n",
       "    </tr>\n",
       "  </tbody>\n",
       "</table>\n",
       "</div>\n",
       "</div>\n",
       "<div class=\"cas-results-key\"><hr/><b>&#167; OutputCasTables</b></div>\n",
       "<div class=\"cas-results-body\">\n",
       "<div>\n",
       "<style scoped>\n",
       "    .dataframe tbody tr th:only-of-type {\n",
       "        vertical-align: middle;\n",
       "    }\n",
       "\n",
       "    .dataframe tbody tr th {\n",
       "        vertical-align: top;\n",
       "    }\n",
       "\n",
       "    .dataframe thead th {\n",
       "        text-align: right;\n",
       "    }\n",
       "</style>\n",
       "<table border=\"1\" class=\"dataframe\">\n",
       "  <thead>\n",
       "    <tr style=\"text-align: right;\">\n",
       "      <th title=\"\"></th>\n",
       "      <th title=\"CAS Library\">casLib</th>\n",
       "      <th title=\"Name\">Name</th>\n",
       "      <th title=\"Number of Rows\">Rows</th>\n",
       "      <th title=\"Number of Columns\">Columns</th>\n",
       "      <th title=\"Number of Rows Appended\">Append</th>\n",
       "      <th title=\"Promoted\">Promoted</th>\n",
       "      <th title=\"Table\">casTable</th>\n",
       "    </tr>\n",
       "  </thead>\n",
       "  <tbody>\n",
       "    <tr>\n",
       "      <th>0</th>\n",
       "      <td>myData</td>\n",
       "      <td>linksTrain</td>\n",
       "      <td>2243168</td>\n",
       "      <td>3</td>\n",
       "      <td>NaN</td>\n",
       "      <td>N</td>\n",
       "      <td>CASTable('linksTrain', caslib='myData')</td>\n",
       "    </tr>\n",
       "  </tbody>\n",
       "</table>\n",
       "</div>\n",
       "</div>\n",
       "<div class=\"cas-output-area\"></div>\n",
       "<p class=\"cas-results-performance\"><small><span class=\"cas-elapsed\">elapsed 0.142s</span> &#183; <span class=\"cas-user\">user 0.847s</span> &#183; <span class=\"cas-sys\">sys 0.291s</span> &#183; <span class=\"cas-memory\">mem 69.8MB</span></small></p>"
      ],
      "text/plain": [
       "[InputCasTables]\n",
       "\n",
       "    casLib   Name     Rows  Columns                            casTable\n",
       " 0  myData  links  2250197        3  CASTable('links', caslib='myData')\n",
       "\n",
       "[OutputCasTables]\n",
       "\n",
       "    casLib        Name     Rows  Columns  Append Promoted  \\\n",
       " 0  myData  linksTrain  2243168        3     NaN        N   \n",
       " \n",
       "                                   casTable  \n",
       " 0  CASTable('linksTrain', caslib='myData')  \n",
       "\n",
       "+ Elapsed: 0.142s, user: 0.847s, sys: 0.291s, mem: 69.8mb"
      ]
     },
     "execution_count": 10,
     "metadata": {},
     "output_type": "execute_result"
    }
   ],
   "source": [
    "s.datastep.runCode(\n",
    "    code=\"\"\"\n",
    "        data linksTrain;\n",
    "        set links;\n",
    "        if type ne \"DrD\" and type ne \"CrC\";\n",
    "        run;\n",
    "    \"\"\"\n",
    ")"
   ]
  },
  {
   "cell_type": "markdown",
   "id": "0d2985c2",
   "metadata": {},
   "source": [
    "Verify that there are no 'resembles' links"
   ]
  },
  {
   "cell_type": "code",
   "execution_count": 11,
   "id": "70faf3f8",
   "metadata": {},
   "outputs": [
    {
     "name": "stdout",
     "output_type": "stream",
     "text": [
      "['AdG' 'AeG' 'AuG' 'CbG' 'CcSE' 'CdG' 'CpD' 'CtD' 'CuG' 'DaG' 'DdG' 'DlA'\n",
      " 'DpS' 'DuG' 'GcG' 'GiG' 'GpBP' 'GpCC' 'GpMF' 'GpPW' 'Gr>G' 'PCiC']\n",
      "Has Disease-resembles-Disease links: False\n",
      "Has Compound-resembles-Compound links: False\n"
     ]
    }
   ],
   "source": [
    "types_train = s.CASTable(\"linksTrain\")[\"type\"].unique()\n",
    "print(types_train)\n",
    "print(f\"Has Disease-resembles-Disease links: {'DrD' in types_train}\")\n",
    "print(f\"Has Compound-resembles-Compound links: {'CrC' in types_train}\")"
   ]
  },
  {
   "cell_type": "markdown",
   "id": "level-hopkins",
   "metadata": {},
   "source": [
    "# Projections"
   ]
  },
  {
   "cell_type": "markdown",
   "id": "224f8ad2",
   "metadata": {},
   "source": [
    "This function performs a projection that infers links between two nodes based on the common neighborhoods of those nodes.\n",
    "\n",
    "   Assumption: Links of the *link_type* type express a bipartite subgraph of the graph represented by\n",
    "   the *nodes* and *links* tables.\n",
    "\n",
    "   Parameters:\n",
    "   \n",
    "   <b>nodes</b> - the name of the nodes table. Assumes the \"type\" column identifies the node type<br>\n",
    "   <b>links</b> - the name of the links table. Assumes the \"type\" column identifies the link type<br>\n",
    "   <b>from_node_type</b> - the node type of the primary partition. Output will be inferred links between pairs of nodes of this type<br>\n",
    "   <b>to_node_type</b> - the node type of the secondary partition. Output inferred links will be based on common neighbors of this type<br>\n",
    "   <b>link_type</b> - the link type to utilize. Output will be based only upon input graph links of this type<br>\n",
    "   <b>out_nodes</b> - the output table that gives the list of nodes (they will all be of type <i>from_node_type</i>)<br>\n",
    "   <b>out_links</b> - the output table that gives the inferred links. Link strength can be quantified using the adamicAdar, cosine, jaccard, and commonNeighbors similarity scores<br>\n"
   ]
  },
  {
   "cell_type": "code",
   "execution_count": 12,
   "id": "76a9f812",
   "metadata": {},
   "outputs": [],
   "source": [
    "def project(nodes, links, from_node_type, to_node_type, link_type, out_nodes, out_links, append_links=None):\n",
    "    s.network.projection(\n",
    "        links       = {\"name\":links, \"where\":f\"type EQ {link_type}\"},\n",
    "        nodes       = {\"name\":nodes,\n",
    "            \"computedVars\": {\"partitionFlag\"}, # Specifies the node roles in projection\n",
    "            \"computedVarsProgram\": f\"\"\"if type = '{from_node_type}'\n",
    "                then partitionFlag = 1;\n",
    "                else if type = '{to_node_type}' \n",
    "                then partitionFlag = 0;\n",
    "                else partitionFlag = .;\"\"\"\n",
    "        },\n",
    "        nodesVar    = {\"vars\":[\"name\", \"type\"]},\n",
    "        partition = \"partitionFlag\",\n",
    "        outProjectionLinks = {\"name\":\"out_links_\", \"replace\":True},\n",
    "        outProjectionNodes = {\"name\":f\"{out_nodes}\", \"replace\":True},\n",
    "#         Output-weighting column options\n",
    "        adamicAdar = True,\n",
    "        cosine = True,\n",
    "        jaccard = True,\n",
    "        commonNeighbors = True\n",
    "    )\n",
    "    \n",
    "    s.datastep.runCode(\n",
    "        code=f\"\"\"\n",
    "            data {out_links};\n",
    "               set {append_links} out_links_(in=newLink);\n",
    "               length type VARCHAR(34);\n",
    "               if newLink then do;\n",
    "                  type = \"SAME \" || \"{link_type}\";\n",
    "               end;\n",
    "            run;\n",
    "        \"\"\"\n",
    "    )"
   ]
  },
  {
   "cell_type": "code",
   "execution_count": 13,
   "id": "dedda653",
   "metadata": {},
   "outputs": [],
   "source": [
    "def get_parameters(keep_type):\n",
    "    resembles_link_type = None\n",
    "    fetch_cutoff_weight = None\n",
    "    if keep_type == \"Disease\":\n",
    "        resembles_link_type = \"DrD\"\n",
    "        fetch_cutoff_weight = 0.1\n",
    "    elif keep_type == \"Compound\":\n",
    "        resembles_link_type = \"CrC\"\n",
    "        fetch_cutoff_weight = 0.1\n",
    "    return resembles_link_type, fetch_cutoff_weight\n",
    "\n",
    "resembles_link_type, fetch_cutoff_weight = get_parameters(keep_type)"
   ]
  },
  {
   "cell_type": "code",
   "execution_count": 14,
   "id": "280c1375",
   "metadata": {},
   "outputs": [
    {
     "name": "stdout",
     "output_type": "stream",
     "text": [
      "NOTE: The number of nodes in the input graph is 47031.\n",
      "NOTE: The number of links in the input graph is 755.\n",
      "NOTE: Processing network projection using 16 threads across 1 machines.\n",
      "NOTE: Processing projection used 0.05 (cpu: 0.06) seconds.\n",
      "NOTE: The number of nodes in the input graph is 47031.\n",
      "NOTE: The number of links in the input graph is 390.\n",
      "NOTE: Processing network projection using 16 threads across 1 machines.\n",
      "NOTE: Processing projection used 0.05 (cpu: 0.13) seconds.\n",
      "NOTE: The number of nodes in the input graph is 47031.\n",
      "NOTE: The number of links in the input graph is 7623.\n",
      "NOTE: Processing network projection using 16 threads across 1 machines.\n",
      "NOTE: Processing projection used 0.06 (cpu: 0.14) seconds.\n",
      "NOTE: The number of nodes in the input graph is 47031.\n",
      "NOTE: The number of links in the input graph is 7731.\n",
      "NOTE: Processing network projection using 16 threads across 1 machines.\n",
      "NOTE: Processing projection used 0.05 (cpu: 0.11) seconds.\n",
      "NOTE: The number of nodes in the input graph is 47031.\n",
      "NOTE: The number of links in the input graph is 12623.\n",
      "NOTE: Processing network projection using 16 threads across 1 machines.\n",
      "NOTE: Processing projection used 0.05 (cpu: 0.18) seconds.\n",
      "NOTE: The number of nodes in the input graph is 47031.\n",
      "NOTE: The number of links in the input graph is 3602.\n",
      "NOTE: Processing network projection using 16 threads across 1 machines.\n",
      "NOTE: Processing projection used 0.05 (cpu: 0.11) seconds.\n",
      "NOTE: The number of nodes in the input graph is 47031.\n",
      "NOTE: The number of links in the input graph is 3357.\n",
      "NOTE: Processing network projection using 16 threads across 1 machines.\n",
      "NOTE: Processing projection used 0.05 (cpu: 0.08) seconds.\n"
     ]
    }
   ],
   "source": [
    "def do_projections(keep_type):\n",
    "    if keep_type == \"Disease\":\n",
    "        project(\"nodes\", \"linksTrain\", keep_type, \"Compound\", \"'CtD'\", \"projNodes\", \"projLinks\", append_links=\"\");\n",
    "        project(\"nodes\", \"linksTrain\", keep_type, \"Compound\", \"'CpD'\", \"projNodes\", \"projLinks\", append_links=\"projLinks\");\n",
    "        project(\"nodes\", \"linksTrain\", keep_type, \"Gene\", \"'DdG'\", \"projNodes\", \"projLinks\", append_links=\"projLinks\");\n",
    "        project(\"nodes\", \"linksTrain\", keep_type, \"Gene\", \"'DuG'\", \"projNodes\", \"projLinks\", append_links=\"projLinks\");\n",
    "        project(\"nodes\", \"linksTrain\", keep_type, \"Gene\", \"'DaG'\", \"projNodes\", \"projLinks\", append_links=\"projLinks\");\n",
    "        project(\"nodes\", \"linksTrain\", keep_type, \"Anatomy\", \"'DlA'\", \"projNodes\", \"projLinks\", append_links=\"projLinks\");\n",
    "        project(\"nodes\", \"linksTrain\", keep_type, \"Symptom\", \"'DpS'\", \"projNodes\", \"projLinks\", append_links=\"projLinks\");\n",
    "    elif keep_type == \"Compound\":\n",
    "        project(\"nodes\", \"linksTrain\", keep_type, \"Disease\", \"'CtD'\", \"projNodes\", \"projLinks\", append_links=\"\");\n",
    "        project(\"nodes\", \"linksTrain\", keep_type, \"Disease\", \"'CpD'\", \"projNodes\", \"projLinks\", append_links=\"projLinks\");\n",
    "        project(\"nodes\", \"linksTrain\", keep_type, \"Gene\", \"'CdG'\", \"projNodes\", \"projLinks\", append_links=\"projLinks\");\n",
    "        project(\"nodes\", \"linksTrain\", keep_type, \"Gene\", \"'CuG'\", \"projNodes\", \"projLinks\", append_links=\"projLinks\");\n",
    "        project(\"nodes\", \"linksTrain\", keep_type, \"Gene\", \"'CbG'\", \"projNodes\", \"projLinks\", append_links=\"projLinks\");\n",
    "        project(\"nodes\", \"linksTrain\", keep_type, \"Pharmacologic Class\", \"'PCiC'\", \"projNodes\", \"projLinks\", append_links=\"projLinks\");\n",
    "        project(\"nodes\", \"linksTrain\", keep_type, \"Side Effect\", \"'CcSE'\", \"projNodes\", \"projLinks\", append_links=\"projLinks\");\n",
    "    \n",
    "do_projections(keep_type)"
   ]
  },
  {
   "cell_type": "markdown",
   "id": "bee9f24b",
   "metadata": {},
   "source": [
    "# Join Nodes Data"
   ]
  },
  {
   "cell_type": "code",
   "execution_count": 15,
   "id": "688af895",
   "metadata": {},
   "outputs": [
    {
     "name": "stdout",
     "output_type": "stream",
     "text": [
      "NOTE: Table PROJLINKSJOINED was created in caslib myData with 17161 rows returned.\n",
      "NOTE: Table PROJLINKSGROUPED was created in caslib myData with 7542 rows returned.\n"
     ]
    }
   ],
   "source": [
    "def join_nodes_data():\n",
    "    s.fedsql.execDirect(\n",
    "        query=\"\"\"\n",
    "            create table projLinksJoined {options replace=true} as\n",
    "            select a.from, a.to, b.name as \"fromName\", c.name as \"toName\", a.adamicAdar, a.type, a.jaccard, a.cosine, a.commonNeighbors\n",
    "            from projLinks a\n",
    "            join nodes b\n",
    "            on a.from = b.node\n",
    "            join nodes c\n",
    "            on a.to = c.node\n",
    "            ;\n",
    "        \"\"\"\n",
    "    )\n",
    "\n",
    "    s.fedsql.execDirect(\n",
    "        query=\"\"\"\n",
    "            create table projLinksGrouped {options replace=true} as\n",
    "            select MIN(a.from) as \"from\",\n",
    "                  MIN(a.to) as \"to\",\n",
    "                  fromName, toName,\n",
    "                  SUM(adamicAdar) as \"adamicAdarSum\",\n",
    "                  SUM(jaccard) as \"jaccardSum\",\n",
    "                  SUM(cosine) as \"cosineSum\",\n",
    "                  sum(commonNeighbors) as \"commonNeighborsSum\",\n",
    "                  /* We have no reason to prefer one weighting methodology over another */\n",
    "                  /* so here, we simply combine all four via geometric mean */\n",
    "                  POWER(SUM(adamicAdar)*SUM(jaccard)*SUM(cosine)*sum(commonNeighbors),0.25) as \"weight\"\n",
    "            from projLinksJoined as a\n",
    "            group by fromName, toName\n",
    "        \"\"\"\n",
    "    )\n",
    "    \n",
    "join_nodes_data()"
   ]
  },
  {
   "cell_type": "markdown",
   "id": "contrary-auckland",
   "metadata": {},
   "source": [
    "## Determine the Range of Weights"
   ]
  },
  {
   "cell_type": "code",
   "execution_count": 16,
   "id": "24e5d28c",
   "metadata": {},
   "outputs": [],
   "source": [
    "def get_min_max_weights():\n",
    "    min_weight = s.CASTable(\"projLinksGrouped\")[\"weight\"].min()\n",
    "    max_weight = s.CASTable(\"projLinksGrouped\")[\"weight\"].max()\n",
    "    return min_weight, max_weight\n",
    "\n",
    "min_weight, max_weight = get_min_max_weights()"
   ]
  },
  {
   "cell_type": "markdown",
   "id": "cea8bb92",
   "metadata": {},
   "source": [
    "# Evaluation"
   ]
  },
  {
   "cell_type": "markdown",
   "id": "9e434890",
   "metadata": {},
   "source": [
    "Gather the Ground truth \"resembles\" links"
   ]
  },
  {
   "cell_type": "markdown",
   "id": "328b3d23",
   "metadata": {},
   "source": [
    "Use a right join to mark which inferred links from projLinks are also ground truth links"
   ]
  },
  {
   "cell_type": "code",
   "execution_count": 17,
   "id": "9a9cc8cd",
   "metadata": {},
   "outputs": [
    {
     "name": "stdout",
     "output_type": "stream",
     "text": [
      "NOTE: Table LINKSRESJOINEDR was created in caslib myData with 1090 rows returned.\n"
     ]
    }
   ],
   "source": [
    "def join_ground_truth(resembles_link_type, fetch_cutoff_weight, min_weight, max_weight):\n",
    "    s.datastep.runCode(\n",
    "        code=f\"\"\"\n",
    "            data linksRes;\n",
    "               set links(where=(type=\"{resembles_link_type}\"));\n",
    "               if to < from then do;\n",
    "                  temp=to;\n",
    "                  to=from;\n",
    "                  from=temp;\n",
    "               end;\n",
    "               drop temp;\n",
    "            run;\n",
    "        \"\"\"\n",
    "    )\n",
    "    fetch_cutoff = fetch_cutoff_weight*(max_weight-min_weight)\n",
    "    s.fedsql.execDirect(\n",
    "        query=f\"\"\"\n",
    "            create table linksResJoinedR {{options replace=true}} as\n",
    "           select a.*, b.weight as \"weight\", c.name as \"fromName\", d.name as \"toName\"\n",
    "           from linksRes a\n",
    "           right join projLinksGrouped b\n",
    "           on a.from = b.from and a.to = b.to\n",
    "           left join nodes c\n",
    "           on b.from = c.node\n",
    "           left join nodes d\n",
    "           on b.to = d.node\n",
    "           where b.weight > {fetch_cutoff} /* Subset to manage table size */\n",
    "           ;\n",
    "        \"\"\"\n",
    "    )\n",
    "\n",
    "    link_prediction_tbl = s.CASTable(\"LINKSRESJOINEDR\")\n",
    "    link_prediction_tbl[\"hit\"] = link_prediction_tbl[\"type\"]!=\"\"\n",
    "    return link_prediction_tbl\n",
    "\n",
    "link_prediction_tbl = join_ground_truth(resembles_link_type, fetch_cutoff_weight, min_weight, max_weight)"
   ]
  },
  {
   "cell_type": "code",
   "execution_count": 18,
   "id": "77571c90",
   "metadata": {},
   "outputs": [],
   "source": [
    "def hits_at(n):\n",
    "    tbl = link_prediction_tbl.nlargest(n, \"weight\")\n",
    "    return int(sum(tbl[\"hit\"]))"
   ]
  },
  {
   "cell_type": "markdown",
   "id": "8c7308c0",
   "metadata": {},
   "source": [
    "Count the correctly predicted disease-resembles-disease links among the top 10"
   ]
  },
  {
   "cell_type": "code",
   "execution_count": 19,
   "id": "549c5194",
   "metadata": {},
   "outputs": [
    {
     "data": {
      "text/plain": [
       "7"
      ]
     },
     "execution_count": 19,
     "metadata": {},
     "output_type": "execute_result"
    }
   ],
   "source": [
    "hits_at(10)"
   ]
  },
  {
   "cell_type": "markdown",
   "id": "e108f529",
   "metadata": {},
   "source": [
    "Count the correctly predicted disease-resembles-disease links among the top 100"
   ]
  },
  {
   "cell_type": "code",
   "execution_count": 20,
   "id": "143dd73d",
   "metadata": {},
   "outputs": [
    {
     "data": {
      "text/plain": [
       "64"
      ]
     },
     "execution_count": 20,
     "metadata": {},
     "output_type": "execute_result"
    }
   ],
   "source": [
    "hits_at(100)"
   ]
  },
  {
   "cell_type": "markdown",
   "id": "385afa4a",
   "metadata": {},
   "source": [
    "Count the correctly predicted disease-resembles-disease links among the top 1000"
   ]
  },
  {
   "cell_type": "code",
   "execution_count": 21,
   "id": "88fe1c9f",
   "metadata": {},
   "outputs": [
    {
     "data": {
      "text/plain": [
       "303"
      ]
     },
     "execution_count": 21,
     "metadata": {},
     "output_type": "execute_result"
    }
   ],
   "source": [
    "hits_at(1000)"
   ]
  },
  {
   "cell_type": "code",
   "execution_count": 22,
   "id": "c22b7abc",
   "metadata": {},
   "outputs": [
    {
     "name": "stdout",
     "output_type": "stream",
     "text": [
      "Number of DrD true positives in entire data set: 543\n",
      "Number of Disease node pairs in entire data set: 9316\n"
     ]
    }
   ],
   "source": [
    "print(f\"Number of DrD true positives in entire data set: {n_drd}\")\n",
    "print(f\"Number of Disease node pairs in entire data set: {int(n_diseases*(n_diseases-1)/2)}\")"
   ]
  },
  {
   "cell_type": "markdown",
   "id": "bebe7c59",
   "metadata": {},
   "source": [
    "Show the top ten disease-resembles-disease link predictions."
   ]
  },
  {
   "cell_type": "code",
   "execution_count": 23,
   "id": "6a562c3c",
   "metadata": {},
   "outputs": [
    {
     "data": {
      "text/html": [
       "<div>\n",
       "<style scoped>\n",
       "    .dataframe tbody tr th:only-of-type {\n",
       "        vertical-align: middle;\n",
       "    }\n",
       "\n",
       "    .dataframe tbody tr th {\n",
       "        vertical-align: top;\n",
       "    }\n",
       "\n",
       "    .dataframe thead th {\n",
       "        text-align: right;\n",
       "    }\n",
       "</style>\n",
       "<table border=\"1\" class=\"dataframe\"><caption>Selected Rows from Table LINKSRESJOINEDR</caption>\n",
       "  <thead>\n",
       "    <tr style=\"text-align: right;\">\n",
       "      <th title=\"\"></th>\n",
       "      <th title=\"from\">from</th>\n",
       "      <th title=\"type\">type</th>\n",
       "      <th title=\"to\">to</th>\n",
       "      <th title=\"weight\">weight</th>\n",
       "      <th title=\"fromName\">fromName</th>\n",
       "      <th title=\"toName\">toName</th>\n",
       "      <th title=\"hit\">hit</th>\n",
       "    </tr>\n",
       "  </thead>\n",
       "  <tbody>\n",
       "    <tr>\n",
       "      <th>0</th>\n",
       "      <td>Disease::DOID:8577</td>\n",
       "      <td>DrD</td>\n",
       "      <td>Disease::DOID:8778</td>\n",
       "      <td>26.239297</td>\n",
       "      <td>ulcerative colitis</td>\n",
       "      <td>Crohn's disease</td>\n",
       "      <td>1.0</td>\n",
       "    </tr>\n",
       "    <tr>\n",
       "      <th>1</th>\n",
       "      <td></td>\n",
       "      <td></td>\n",
       "      <td></td>\n",
       "      <td>16.694609</td>\n",
       "      <td>hypertension</td>\n",
       "      <td>coronary artery disease</td>\n",
       "      <td>0.0</td>\n",
       "    </tr>\n",
       "    <tr>\n",
       "      <th>2</th>\n",
       "      <td>Disease::DOID:7148</td>\n",
       "      <td>DrD</td>\n",
       "      <td>Disease::DOID:9074</td>\n",
       "      <td>16.095346</td>\n",
       "      <td>rheumatoid arthritis</td>\n",
       "      <td>systemic lupus erythematosus</td>\n",
       "      <td>1.0</td>\n",
       "    </tr>\n",
       "    <tr>\n",
       "      <th>3</th>\n",
       "      <td>Disease::DOID:1319</td>\n",
       "      <td>DrD</td>\n",
       "      <td>Disease::DOID:3070</td>\n",
       "      <td>14.908940</td>\n",
       "      <td>brain cancer</td>\n",
       "      <td>malignant glioma</td>\n",
       "      <td>1.0</td>\n",
       "    </tr>\n",
       "    <tr>\n",
       "      <th>4</th>\n",
       "      <td>Disease::DOID:1936</td>\n",
       "      <td>DrD</td>\n",
       "      <td>Disease::DOID:3393</td>\n",
       "      <td>14.070502</td>\n",
       "      <td>atherosclerosis</td>\n",
       "      <td>coronary artery disease</td>\n",
       "      <td>1.0</td>\n",
       "    </tr>\n",
       "    <tr>\n",
       "      <th>5</th>\n",
       "      <td>Disease::DOID:3312</td>\n",
       "      <td>DrD</td>\n",
       "      <td>Disease::DOID:5419</td>\n",
       "      <td>13.300299</td>\n",
       "      <td>bipolar disorder</td>\n",
       "      <td>schizophrenia</td>\n",
       "      <td>1.0</td>\n",
       "    </tr>\n",
       "    <tr>\n",
       "      <th>6</th>\n",
       "      <td>Disease::DOID:7147</td>\n",
       "      <td>DrD</td>\n",
       "      <td>Disease::DOID:7148</td>\n",
       "      <td>12.887492</td>\n",
       "      <td>ankylosing spondylitis</td>\n",
       "      <td>rheumatoid arthritis</td>\n",
       "      <td>1.0</td>\n",
       "    </tr>\n",
       "    <tr>\n",
       "      <th>7</th>\n",
       "      <td></td>\n",
       "      <td></td>\n",
       "      <td></td>\n",
       "      <td>12.730336</td>\n",
       "      <td>prostate cancer</td>\n",
       "      <td>breast cancer</td>\n",
       "      <td>0.0</td>\n",
       "    </tr>\n",
       "    <tr>\n",
       "      <th>8</th>\n",
       "      <td>Disease::DOID:7148</td>\n",
       "      <td>DrD</td>\n",
       "      <td>Disease::DOID:8893</td>\n",
       "      <td>12.354446</td>\n",
       "      <td>rheumatoid arthritis</td>\n",
       "      <td>psoriasis</td>\n",
       "      <td>1.0</td>\n",
       "    </tr>\n",
       "    <tr>\n",
       "      <th>9</th>\n",
       "      <td></td>\n",
       "      <td></td>\n",
       "      <td></td>\n",
       "      <td>12.313293</td>\n",
       "      <td>breast cancer</td>\n",
       "      <td>hematologic cancer</td>\n",
       "      <td>0.0</td>\n",
       "    </tr>\n",
       "  </tbody>\n",
       "</table>\n",
       "</div>"
      ],
      "text/plain": [
       "Selected Rows from Table LINKSRESJOINEDR\n",
       "\n",
       "                 from type                  to     weight  \\\n",
       "0  Disease::DOID:8577  DrD  Disease::DOID:8778  26.239297   \n",
       "1                                               16.694609   \n",
       "2  Disease::DOID:7148  DrD  Disease::DOID:9074  16.095346   \n",
       "3  Disease::DOID:1319  DrD  Disease::DOID:3070  14.908940   \n",
       "4  Disease::DOID:1936  DrD  Disease::DOID:3393  14.070502   \n",
       "5  Disease::DOID:3312  DrD  Disease::DOID:5419  13.300299   \n",
       "6  Disease::DOID:7147  DrD  Disease::DOID:7148  12.887492   \n",
       "7                                               12.730336   \n",
       "8  Disease::DOID:7148  DrD  Disease::DOID:8893  12.354446   \n",
       "9                                               12.313293   \n",
       "\n",
       "                 fromName                        toName  hit  \n",
       "0      ulcerative colitis               Crohn's disease  1.0  \n",
       "1            hypertension       coronary artery disease  0.0  \n",
       "2    rheumatoid arthritis  systemic lupus erythematosus  1.0  \n",
       "3            brain cancer              malignant glioma  1.0  \n",
       "4         atherosclerosis       coronary artery disease  1.0  \n",
       "5        bipolar disorder                 schizophrenia  1.0  \n",
       "6  ankylosing spondylitis          rheumatoid arthritis  1.0  \n",
       "7         prostate cancer                 breast cancer  0.0  \n",
       "8    rheumatoid arthritis                     psoriasis  1.0  \n",
       "9           breast cancer            hematologic cancer  0.0  "
      ]
     },
     "execution_count": 23,
     "metadata": {},
     "output_type": "execute_result"
    }
   ],
   "source": [
    "link_prediction_tbl.nlargest(10, \"weight\")"
   ]
  },
  {
   "cell_type": "markdown",
   "id": "6ed3a827",
   "metadata": {},
   "source": [
    "There are three false positives, but a cursory internet search shows that there are, in fact, meaningful links between *hypertension* and *coronary artery disease*. The same is true for *prostate cancer* and *breast cancer*. So even though these are reported as false positives, they may represent incompleteness of the data set rather than inaccuracy of the prediction."
   ]
  },
  {
   "cell_type": "markdown",
   "id": "ffe73ec9",
   "metadata": {},
   "source": [
    "## Repeat the analysis for compound link prediction"
   ]
  },
  {
   "cell_type": "code",
   "execution_count": 24,
   "id": "896677a0",
   "metadata": {},
   "outputs": [],
   "source": [
    "keep_type = \"Compound\""
   ]
  },
  {
   "cell_type": "code",
   "execution_count": 25,
   "id": "56cece11",
   "metadata": {},
   "outputs": [
    {
     "name": "stdout",
     "output_type": "stream",
     "text": [
      "NOTE: The number of nodes in the input graph is 47031.\n",
      "NOTE: The number of links in the input graph is 755.\n",
      "NOTE: Processing network projection using 16 threads across 1 machines.\n",
      "NOTE: Processing projection used 0.06 (cpu: 0.29) seconds.\n",
      "NOTE: The number of nodes in the input graph is 47031.\n",
      "NOTE: The number of links in the input graph is 390.\n",
      "NOTE: Processing network projection using 16 threads across 1 machines.\n",
      "NOTE: Processing projection used 0.06 (cpu: 0.28) seconds.\n",
      "NOTE: The number of nodes in the input graph is 47031.\n",
      "NOTE: The number of links in the input graph is 21102.\n",
      "NOTE: Processing network projection using 16 threads across 1 machines.\n",
      "NOTE: Processing projection used 0.09 (cpu: 0.73) seconds.\n",
      "NOTE: The number of nodes in the input graph is 47031.\n",
      "NOTE: The number of links in the input graph is 18756.\n",
      "NOTE: Processing network projection using 16 threads across 1 machines.\n",
      "NOTE: Processing projection used 0.09 (cpu: 0.74) seconds.\n",
      "NOTE: The number of nodes in the input graph is 47031.\n",
      "NOTE: The number of links in the input graph is 11571.\n",
      "NOTE: Processing network projection using 16 threads across 1 machines.\n",
      "NOTE: Processing projection used 0.10 (cpu: 0.65) seconds.\n",
      "NOTE: The number of nodes in the input graph is 47031.\n",
      "NOTE: The number of links in the input graph is 1029.\n",
      "NOTE: Processing network projection using 16 threads across 1 machines.\n",
      "NOTE: Processing projection used 0.06 (cpu: 0.36) seconds.\n",
      "NOTE: The number of nodes in the input graph is 47031.\n",
      "NOTE: The number of links in the input graph is 138944.\n",
      "NOTE: Processing network projection using 16 threads across 1 machines.\n",
      "NOTE: Processing projection used 0.26 (cpu: 2.90) seconds.\n",
      "NOTE: Table PROJLINKSJOINED was created in caslib myData with 934307 rows returned.\n",
      "NOTE: Table PROJLINKSGROUPED was created in caslib myData with 661212 rows returned.\n",
      "NOTE: Table LINKSRESJOINEDR was created in caslib myData with 9752 rows returned.\n"
     ]
    }
   ],
   "source": [
    "resembles_link_type, fetch_cutoff_weight = get_parameters(keep_type)\n",
    "do_projections(keep_type)\n",
    "join_nodes_data()\n",
    "min_weight, max_weight = get_min_max_weights()\n",
    "link_prediction_tbl = join_ground_truth(resembles_link_type, fetch_cutoff_weight, min_weight, max_weight)"
   ]
  },
  {
   "cell_type": "markdown",
   "id": "0b51b1ce",
   "metadata": {},
   "source": [
    "Count the correctly predicted compound-resembles-compound links among the top 10"
   ]
  },
  {
   "cell_type": "code",
   "execution_count": 26,
   "id": "42cef415",
   "metadata": {},
   "outputs": [
    {
     "data": {
      "text/plain": [
       "10"
      ]
     },
     "execution_count": 26,
     "metadata": {},
     "output_type": "execute_result"
    }
   ],
   "source": [
    "hits_at(10)"
   ]
  },
  {
   "cell_type": "markdown",
   "id": "7da84f21",
   "metadata": {},
   "source": [
    "Count the correctly predicted compound-resembles-compound links among the top 100"
   ]
  },
  {
   "cell_type": "code",
   "execution_count": 27,
   "id": "6efbd2ce",
   "metadata": {},
   "outputs": [
    {
     "data": {
      "text/plain": [
       "54"
      ]
     },
     "execution_count": 27,
     "metadata": {},
     "output_type": "execute_result"
    }
   ],
   "source": [
    "hits_at(100)"
   ]
  },
  {
   "cell_type": "markdown",
   "id": "144868fe",
   "metadata": {},
   "source": [
    "Count the correctly predicted compound-resembles-compound links among the top 1000"
   ]
  },
  {
   "cell_type": "code",
   "execution_count": 28,
   "id": "7c18cfa6",
   "metadata": {},
   "outputs": [
    {
     "data": {
      "text/plain": [
       "249"
      ]
     },
     "execution_count": 28,
     "metadata": {},
     "output_type": "execute_result"
    }
   ],
   "source": [
    "hits_at(1000)"
   ]
  },
  {
   "cell_type": "code",
   "execution_count": 29,
   "id": "d1493a18",
   "metadata": {},
   "outputs": [
    {
     "name": "stdout",
     "output_type": "stream",
     "text": [
      "Number of CrC true positives in entire data set: 6486\n",
      "Number of Compound node pairs in entire data set: 1203576\n"
     ]
    }
   ],
   "source": [
    "print(f\"Number of CrC true positives in entire data set: {n_crc}\")\n",
    "print(f\"Number of Compound node pairs in entire data set: {int(n_compounds*(n_compounds-1)/2)}\")"
   ]
  },
  {
   "cell_type": "markdown",
   "id": "18a01a1b",
   "metadata": {},
   "source": [
    "Show the top ten compound-resembles-compound link predictions."
   ]
  },
  {
   "cell_type": "code",
   "execution_count": 30,
   "id": "d6b9554b",
   "metadata": {},
   "outputs": [
    {
     "data": {
      "text/html": [
       "<div>\n",
       "<style scoped>\n",
       "    .dataframe tbody tr th:only-of-type {\n",
       "        vertical-align: middle;\n",
       "    }\n",
       "\n",
       "    .dataframe tbody tr th {\n",
       "        vertical-align: top;\n",
       "    }\n",
       "\n",
       "    .dataframe thead th {\n",
       "        text-align: right;\n",
       "    }\n",
       "</style>\n",
       "<table border=\"1\" class=\"dataframe\"><caption>Selected Rows from Table LINKSRESJOINEDR</caption>\n",
       "  <thead>\n",
       "    <tr style=\"text-align: right;\">\n",
       "      <th title=\"\"></th>\n",
       "      <th title=\"from\">from</th>\n",
       "      <th title=\"type\">type</th>\n",
       "      <th title=\"to\">to</th>\n",
       "      <th title=\"weight\">weight</th>\n",
       "      <th title=\"fromName\">fromName</th>\n",
       "      <th title=\"toName\">toName</th>\n",
       "      <th title=\"hit\">hit</th>\n",
       "    </tr>\n",
       "  </thead>\n",
       "  <tbody>\n",
       "    <tr>\n",
       "      <th>0</th>\n",
       "      <td>Compound::DB00445</td>\n",
       "      <td>CrC</td>\n",
       "      <td>Compound::DB00997</td>\n",
       "      <td>69.171230</td>\n",
       "      <td>Epirubicin</td>\n",
       "      <td>Doxorubicin</td>\n",
       "      <td>1.0</td>\n",
       "    </tr>\n",
       "    <tr>\n",
       "      <th>1</th>\n",
       "      <td>Compound::DB00443</td>\n",
       "      <td>CrC</td>\n",
       "      <td>Compound::DB01234</td>\n",
       "      <td>68.079416</td>\n",
       "      <td>Betamethasone</td>\n",
       "      <td>Dexamethasone</td>\n",
       "      <td>1.0</td>\n",
       "    </tr>\n",
       "    <tr>\n",
       "      <th>2</th>\n",
       "      <td>Compound::DB00215</td>\n",
       "      <td>CrC</td>\n",
       "      <td>Compound::DB01175</td>\n",
       "      <td>58.447223</td>\n",
       "      <td>Citalopram</td>\n",
       "      <td>Escitalopram</td>\n",
       "      <td>1.0</td>\n",
       "    </tr>\n",
       "    <tr>\n",
       "      <th>3</th>\n",
       "      <td>Compound::DB00755</td>\n",
       "      <td>CrC</td>\n",
       "      <td>Compound::DB00982</td>\n",
       "      <td>54.594170</td>\n",
       "      <td>Tretinoin</td>\n",
       "      <td>Isotretinoin</td>\n",
       "      <td>1.0</td>\n",
       "    </tr>\n",
       "    <tr>\n",
       "      <th>4</th>\n",
       "      <td>Compound::DB00523</td>\n",
       "      <td>CrC</td>\n",
       "      <td>Compound::DB00982</td>\n",
       "      <td>54.154831</td>\n",
       "      <td>Alitretinoin</td>\n",
       "      <td>Isotretinoin</td>\n",
       "      <td>1.0</td>\n",
       "    </tr>\n",
       "    <tr>\n",
       "      <th>5</th>\n",
       "      <td>Compound::DB00523</td>\n",
       "      <td>CrC</td>\n",
       "      <td>Compound::DB00755</td>\n",
       "      <td>52.945645</td>\n",
       "      <td>Alitretinoin</td>\n",
       "      <td>Tretinoin</td>\n",
       "      <td>1.0</td>\n",
       "    </tr>\n",
       "    <tr>\n",
       "      <th>6</th>\n",
       "      <td>Compound::DB01137</td>\n",
       "      <td>CrC</td>\n",
       "      <td>Compound::DB01165</td>\n",
       "      <td>47.053058</td>\n",
       "      <td>Levofloxacin</td>\n",
       "      <td>Ofloxacin</td>\n",
       "      <td>1.0</td>\n",
       "    </tr>\n",
       "    <tr>\n",
       "      <th>7</th>\n",
       "      <td>Compound::DB00338</td>\n",
       "      <td>CrC</td>\n",
       "      <td>Compound::DB00736</td>\n",
       "      <td>39.835781</td>\n",
       "      <td>Omeprazole</td>\n",
       "      <td>Esomeprazole</td>\n",
       "      <td>1.0</td>\n",
       "    </tr>\n",
       "    <tr>\n",
       "      <th>8</th>\n",
       "      <td>Compound::DB00694</td>\n",
       "      <td>CrC</td>\n",
       "      <td>Compound::DB00997</td>\n",
       "      <td>37.237415</td>\n",
       "      <td>Daunorubicin</td>\n",
       "      <td>Doxorubicin</td>\n",
       "      <td>1.0</td>\n",
       "    </tr>\n",
       "    <tr>\n",
       "      <th>9</th>\n",
       "      <td>Compound::DB00445</td>\n",
       "      <td>CrC</td>\n",
       "      <td>Compound::DB00694</td>\n",
       "      <td>35.497282</td>\n",
       "      <td>Epirubicin</td>\n",
       "      <td>Daunorubicin</td>\n",
       "      <td>1.0</td>\n",
       "    </tr>\n",
       "  </tbody>\n",
       "</table>\n",
       "</div>"
      ],
      "text/plain": [
       "Selected Rows from Table LINKSRESJOINEDR\n",
       "\n",
       "                from type                 to     weight       fromName  \\\n",
       "0  Compound::DB00445  CrC  Compound::DB00997  69.171230     Epirubicin   \n",
       "1  Compound::DB00443  CrC  Compound::DB01234  68.079416  Betamethasone   \n",
       "2  Compound::DB00215  CrC  Compound::DB01175  58.447223     Citalopram   \n",
       "3  Compound::DB00755  CrC  Compound::DB00982  54.594170      Tretinoin   \n",
       "4  Compound::DB00523  CrC  Compound::DB00982  54.154831   Alitretinoin   \n",
       "5  Compound::DB00523  CrC  Compound::DB00755  52.945645   Alitretinoin   \n",
       "6  Compound::DB01137  CrC  Compound::DB01165  47.053058   Levofloxacin   \n",
       "7  Compound::DB00338  CrC  Compound::DB00736  39.835781     Omeprazole   \n",
       "8  Compound::DB00694  CrC  Compound::DB00997  37.237415   Daunorubicin   \n",
       "9  Compound::DB00445  CrC  Compound::DB00694  35.497282     Epirubicin   \n",
       "\n",
       "          toName  hit  \n",
       "0    Doxorubicin  1.0  \n",
       "1  Dexamethasone  1.0  \n",
       "2   Escitalopram  1.0  \n",
       "3   Isotretinoin  1.0  \n",
       "4   Isotretinoin  1.0  \n",
       "5      Tretinoin  1.0  \n",
       "6      Ofloxacin  1.0  \n",
       "7   Esomeprazole  1.0  \n",
       "8    Doxorubicin  1.0  \n",
       "9   Daunorubicin  1.0  "
      ]
     },
     "execution_count": 30,
     "metadata": {},
     "output_type": "execute_result"
    }
   ],
   "source": [
    "link_prediction_tbl.nlargest(10, \"weight\")"
   ]
  },
  {
   "cell_type": "markdown",
   "id": "ca9082e1",
   "metadata": {},
   "source": [
    "For the task of drug compound link prediction, all 10 of the top-weighted predictions are correctly predicted links."
   ]
  },
  {
   "cell_type": "code",
   "execution_count": 31,
   "id": "a9b95b33",
   "metadata": {},
   "outputs": [],
   "source": [
    "s.terminate()"
   ]
  }
 ],
 "metadata": {
  "kernelspec": {
   "display_name": "Python 3",
   "language": "python",
   "name": "python3"
  },
  "language_info": {
   "codemirror_mode": {
    "name": "ipython",
    "version": 3
   },
   "file_extension": ".py",
   "mimetype": "text/x-python",
   "name": "python",
   "nbconvert_exporter": "python",
   "pygments_lexer": "ipython3",
   "version": "3.6.5"
  }
 },
 "nbformat": 4,
 "nbformat_minor": 5
}
